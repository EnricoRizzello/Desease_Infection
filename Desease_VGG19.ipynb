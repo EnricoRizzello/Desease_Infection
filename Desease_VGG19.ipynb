{
 "cells": [
  {
   "cell_type": "markdown",
   "metadata": {},
   "source": [
    "## Creating CNN Using Scratch And Transfer Learning"
   ]
  },
  {
   "cell_type": "markdown",
   "metadata": {},
   "source": [
    "Please download the dataset from the below url"
   ]
  },
  {
   "cell_type": "code",
   "execution_count": 1,
   "metadata": {},
   "outputs": [],
   "source": [
    "'''\n",
    " Uso di tecniche di transferlearning per adattare una CNN vgg19 al task di riconoscimento\n",
    " di un soggetto infetto o sano da immagini di cellule \n",
    "\n",
    " Importing da kerar le librerie base incluse quello riguardanti da data ugmentation e VGG19\n",
    "\n",
    " Il dataset da Kaggle:\n",
    "\n",
    " Test\n",
    "     Parasite\n",
    "     Uninfected\n",
    " Training\n",
    "     Parasite\n",
    "     Uninfected    \n",
    "'''\n",
    "\n",
    "from tensorflow.keras.layers import Input, Lambda, Dense, Flatten,Conv2D\n",
    "from tensorflow.keras.models import Model\n",
    "from tensorflow.keras.applications.vgg19 import VGG19\n",
    "from tensorflow.keras.applications.resnet50 import preprocess_input\n",
    "from tensorflow.keras.preprocessing import image\n",
    "from tensorflow.keras.preprocessing.image import ImageDataGenerator,load_img\n",
    "from tensorflow.keras.models import Sequential\n",
    "import numpy as np\n",
    "from glob import glob\n",
    "import matplotlib.pyplot as plt"
   ]
  },
  {
   "cell_type": "code",
   "execution_count": 2,
   "metadata": {},
   "outputs": [],
   "source": [
    "'''\n",
    " Resetting le dimensioni dell'immagine 224x224\n",
    " e i path del train e test set\n",
    "'''\n",
    "IMAGE_SIZE = [224, 224]\n",
    "\n",
    "train_path = 'cell_images/Train'\n",
    "valid_path = 'cell_images/Test'\n"
   ]
  },
  {
   "cell_type": "code",
   "execution_count": 3,
   "metadata": {},
   "outputs": [],
   "source": [
    "'''\n",
    " setting della VGG19 settango i pesi come \"imagenet\" \n",
    " (perchè il modello è stato trainato con quei parametri) \n",
    " l'image_size e [3] canali RGB\n",
    "'''\n",
    "\n",
    "mobilnet = VGG19(input_shape=IMAGE_SIZE + [3], weights='imagenet', include_top=False)\n",
    "\n",
    "\n"
   ]
  },
  {
   "cell_type": "code",
   "execution_count": 4,
   "metadata": {},
   "outputs": [],
   "source": [
    "'''\n",
    " Non si alleneranno i layer già allenati\n",
    "'''\n",
    "for layer in mobilnet.layers:\n",
    "    layer.trainable = False"
   ]
  },
  {
   "cell_type": "code",
   "execution_count": 5,
   "metadata": {},
   "outputs": [],
   "source": [
    "'''\n",
    " Si prende il numero delle classi in base al numero\n",
    " delle cartelle dal numero di sottocartelle in \"Train\"\n",
    "'''\n",
    "folders = glob('Dataset/Train/*')\n",
    "\n",
    "#folders"
   ]
  },
  {
   "cell_type": "code",
   "execution_count": 6,
   "metadata": {},
   "outputs": [],
   "source": [
    "'''\n",
    " Effettuiamo il flattening dei livelli già presenti\n",
    "'''\n",
    "x = Flatten()(mobilnet.output)"
   ]
  },
  {
   "cell_type": "code",
   "execution_count": 7,
   "metadata": {},
   "outputs": [],
   "source": [
    "'''\n",
    " Settiamo i layer con quantitativo di classi come \"2\" e \n",
    " funzione di attivazione \"Softmax\"\n",
    "'''\n",
    "\n",
    "prediction = Dense(len(folders), activation='softmax')(x)\n",
    "\n",
    "'''\n",
    " Creiamo il modello settando come imput \"mobilnet\" e le nostre\n",
    " preciction come output\n",
    "'''\n",
    "model = Model(inputs=mobilnet.input, outputs=prediction)\n",
    "'''\n",
    "Struttura del modello\n",
    "'''\n",
    "#model.summary()\n",
    "epoch=30"
   ]
  },
  {
   "cell_type": "code",
   "execution_count": 8,
   "metadata": {},
   "outputs": [],
   "source": [
    "from tensorflow.keras.layers import MaxPooling2D"
   ]
  },
  {
   "cell_type": "code",
   "execution_count": 9,
   "metadata": {},
   "outputs": [
    {
     "name": "stdout",
     "output_type": "stream",
     "text": [
      "Model: \"sequential\"\n",
      "_________________________________________________________________\n",
      "Layer (type)                 Output Shape              Param #   \n",
      "=================================================================\n",
      "conv2d (Conv2D)              (None, 224, 224, 16)      208       \n",
      "_________________________________________________________________\n",
      "max_pooling2d (MaxPooling2D) (None, 112, 112, 16)      0         \n",
      "_________________________________________________________________\n",
      "conv2d_1 (Conv2D)            (None, 112, 112, 32)      2080      \n",
      "_________________________________________________________________\n",
      "max_pooling2d_1 (MaxPooling2 (None, 56, 56, 32)        0         \n",
      "_________________________________________________________________\n",
      "conv2d_2 (Conv2D)            (None, 56, 56, 64)        8256      \n",
      "_________________________________________________________________\n",
      "max_pooling2d_2 (MaxPooling2 (None, 28, 28, 64)        0         \n",
      "_________________________________________________________________\n",
      "flatten_1 (Flatten)          (None, 50176)             0         \n",
      "_________________________________________________________________\n",
      "dense_1 (Dense)              (None, 500)               25088500  \n",
      "_________________________________________________________________\n",
      "dense_2 (Dense)              (None, 2)                 1002      \n",
      "=================================================================\n",
      "Total params: 25,100,046\n",
      "Trainable params: 25,100,046\n",
      "Non-trainable params: 0\n",
      "_________________________________________________________________\n"
     ]
    }
   ],
   "source": [
    "### Create Model from scratch using CNN\n",
    "'''\n",
    " Creo un modello CNN da 0 tentando di paragonare le performances con la VGG19 \n",
    " NOTA: Funzione di attivazione: Relu tranne l'ultima che è softmatx \n",
    "       (se avessi un solo nodo Sigmoide sarebbe meglio)\n",
    "'''\n",
    "model=Sequential()\n",
    "model.add(Conv2D(filters=16,kernel_size=2,padding=\"same\",activation=\"relu\",input_shape=(224,224,3)))\n",
    "model.add(MaxPooling2D(pool_size=2))\n",
    "model.add(Conv2D(filters=32,kernel_size=2,padding=\"same\",activation =\"relu\"))\n",
    "model.add(MaxPooling2D(pool_size=2))\n",
    "model.add(Conv2D(filters=64,kernel_size=2,padding=\"same\",activation=\"relu\"))\n",
    "model.add(MaxPooling2D(pool_size=2))\n",
    "model.add(Flatten())\n",
    "model.add(Dense(500,activation=\"relu\"))\n",
    "model.add(Dense(2,activation=\"softmax\"))\n",
    "model.summary()\n",
    "epoch=50"
   ]
  },
  {
   "cell_type": "code",
   "execution_count": 10,
   "metadata": {},
   "outputs": [],
   "source": [
    "'''\n",
    " Compilo il modello settando la funzione di loss (crossEntropy)\n",
    " e come ottimizzatore \"Adam\"\n",
    "'''\n",
    "model.compile(\n",
    "  loss='categorical_crossentropy',\n",
    "  optimizer='adam',\n",
    "  metrics=['accuracy']\n",
    ")\n"
   ]
  },
  {
   "cell_type": "code",
   "execution_count": 11,
   "metadata": {},
   "outputs": [],
   "source": [
    "'''\n",
    " Effettuiamo della data augmentation sul training set e test set\n",
    " NOTA: Sul test set fare solo il rescaling in 255 pixel\n",
    "'''\n",
    "from tensorflow.keras.preprocessing.image import ImageDataGenerator\n",
    "\n",
    "train_datagen = ImageDataGenerator(rescale = 1./255,\n",
    "                                   shear_range = 0.2,\n",
    "                                   zoom_range = 0.2,\n",
    "                                   horizontal_flip = True)\n",
    "\n",
    "test_datagen = ImageDataGenerator(rescale = 1./255)"
   ]
  },
  {
   "cell_type": "code",
   "execution_count": 12,
   "metadata": {},
   "outputs": [
    {
     "name": "stdout",
     "output_type": "stream",
     "text": [
      "Found 416 images belonging to 2 classes.\n"
     ]
    }
   ],
   "source": [
    "'''\n",
    " Settiamo iol training set a partire dal training datagen  settando la cartella\n",
    " del training set, la dimensione del batch (Per l'uso della RAM) e la class mode\n",
    "'''\n",
    "training_set = train_datagen.flow_from_directory('Dataset/Train',\n",
    "                                                 target_size = (224, 224),\n",
    "                                                 batch_size = 32,\n",
    "                                                 class_mode = 'categorical')\n",
    "\n",
    "#training_set                                                 "
   ]
  },
  {
   "cell_type": "code",
   "execution_count": 13,
   "metadata": {},
   "outputs": [
    {
     "name": "stdout",
     "output_type": "stream",
     "text": [
      "Found 134 images belonging to 2 classes.\n"
     ]
    }
   ],
   "source": [
    "'''\n",
    " Facciamo la stessa cosa col test set\n",
    "'''\n",
    "test_set = test_datagen.flow_from_directory('Dataset/Test',\n",
    "                                            target_size = (224, 224),\n",
    "                                            batch_size = 32,\n",
    "                                            class_mode = 'categorical')\n",
    "#test_set                                            "
   ]
  },
  {
   "cell_type": "code",
   "execution_count": 14,
   "metadata": {
    "scrolled": true
   },
   "outputs": [
    {
     "name": "stdout",
     "output_type": "stream",
     "text": [
      "Epoch 1/50\n",
      "13/13 [==============================] - 6s 420ms/step - loss: 1.4749 - accuracy: 0.5120 - val_loss: 0.6635 - val_accuracy: 0.6791\n",
      "Epoch 2/50\n",
      "13/13 [==============================] - 5s 411ms/step - loss: 0.7327 - accuracy: 0.5577 - val_loss: 0.7256 - val_accuracy: 0.3657\n",
      "Epoch 3/50\n",
      "13/13 [==============================] - 6s 416ms/step - loss: 0.6723 - accuracy: 0.6106 - val_loss: 0.7056 - val_accuracy: 0.3731\n",
      "Epoch 4/50\n",
      "13/13 [==============================] - 6s 415ms/step - loss: 0.6297 - accuracy: 0.6923 - val_loss: 0.7976 - val_accuracy: 0.2537\n",
      "Epoch 5/50\n",
      "13/13 [==============================] - 6s 416ms/step - loss: 0.5623 - accuracy: 0.7067 - val_loss: 1.1891 - val_accuracy: 0.3060\n",
      "Epoch 6/50\n",
      "13/13 [==============================] - 6s 418ms/step - loss: 0.5350 - accuracy: 0.7188 - val_loss: 1.3619 - val_accuracy: 0.3060\n",
      "Epoch 7/50\n",
      "13/13 [==============================] - 6s 420ms/step - loss: 0.5162 - accuracy: 0.7524 - val_loss: 0.9708 - val_accuracy: 0.2910\n",
      "Epoch 8/50\n",
      "13/13 [==============================] - 6s 418ms/step - loss: 0.4709 - accuracy: 0.7764 - val_loss: 1.0391 - val_accuracy: 0.3731\n",
      "Epoch 9/50\n",
      "13/13 [==============================] - 6s 417ms/step - loss: 0.4825 - accuracy: 0.7404 - val_loss: 0.8231 - val_accuracy: 0.4030\n",
      "Epoch 10/50\n",
      "13/13 [==============================] - 6s 416ms/step - loss: 0.3800 - accuracy: 0.8293 - val_loss: 1.2633 - val_accuracy: 0.4179\n",
      "Epoch 11/50\n",
      "13/13 [==============================] - 6s 414ms/step - loss: 0.3701 - accuracy: 0.8413 - val_loss: 0.6720 - val_accuracy: 0.5672\n",
      "Epoch 12/50\n",
      "13/13 [==============================] - 6s 428ms/step - loss: 0.2938 - accuracy: 0.8846 - val_loss: 0.9389 - val_accuracy: 0.5970\n",
      "Epoch 13/50\n",
      "13/13 [==============================] - 6s 424ms/step - loss: 0.2500 - accuracy: 0.9038 - val_loss: 0.6571 - val_accuracy: 0.7164\n",
      "Epoch 14/50\n",
      "13/13 [==============================] - 6s 427ms/step - loss: 0.1829 - accuracy: 0.9375 - val_loss: 0.4661 - val_accuracy: 0.7985\n",
      "Epoch 15/50\n",
      "13/13 [==============================] - 6s 428ms/step - loss: 0.1397 - accuracy: 0.9615 - val_loss: 0.3233 - val_accuracy: 0.8507\n",
      "Epoch 16/50\n",
      "13/13 [==============================] - 6s 431ms/step - loss: 0.1192 - accuracy: 0.9567 - val_loss: 0.5153 - val_accuracy: 0.8209\n",
      "Epoch 17/50\n",
      "13/13 [==============================] - 6s 423ms/step - loss: 0.1263 - accuracy: 0.9615 - val_loss: 0.2747 - val_accuracy: 0.8881\n",
      "Epoch 18/50\n",
      "13/13 [==============================] - 6s 427ms/step - loss: 0.0954 - accuracy: 0.9760 - val_loss: 0.3632 - val_accuracy: 0.8806\n",
      "Epoch 19/50\n",
      "13/13 [==============================] - 6s 429ms/step - loss: 0.0916 - accuracy: 0.9712 - val_loss: 0.2428 - val_accuracy: 0.8955\n",
      "Epoch 20/50\n",
      "13/13 [==============================] - 6s 428ms/step - loss: 0.0823 - accuracy: 0.9736 - val_loss: 0.2388 - val_accuracy: 0.8955\n",
      "Epoch 21/50\n",
      "13/13 [==============================] - 6s 431ms/step - loss: 0.0683 - accuracy: 0.9832 - val_loss: 0.3106 - val_accuracy: 0.8806\n",
      "Epoch 22/50\n",
      "13/13 [==============================] - 6s 427ms/step - loss: 0.0792 - accuracy: 0.9880 - val_loss: 0.3676 - val_accuracy: 0.8731\n",
      "Epoch 23/50\n",
      "13/13 [==============================] - 6s 431ms/step - loss: 0.0758 - accuracy: 0.9808 - val_loss: 0.2706 - val_accuracy: 0.9030\n",
      "Epoch 24/50\n",
      "13/13 [==============================] - 6s 428ms/step - loss: 0.0451 - accuracy: 0.9856 - val_loss: 0.6800 - val_accuracy: 0.8433\n",
      "Epoch 25/50\n",
      "13/13 [==============================] - 6s 420ms/step - loss: 0.0859 - accuracy: 0.9736 - val_loss: 0.3275 - val_accuracy: 0.8657\n",
      "Epoch 26/50\n",
      "13/13 [==============================] - 6s 422ms/step - loss: 0.0828 - accuracy: 0.9688 - val_loss: 0.2855 - val_accuracy: 0.8806\n",
      "Epoch 27/50\n",
      "13/13 [==============================] - 6s 419ms/step - loss: 0.0379 - accuracy: 0.9928 - val_loss: 0.3190 - val_accuracy: 0.9030\n",
      "Epoch 28/50\n",
      "13/13 [==============================] - 6s 417ms/step - loss: 0.0302 - accuracy: 0.9928 - val_loss: 0.2493 - val_accuracy: 0.9104\n",
      "Epoch 29/50\n",
      "13/13 [==============================] - 6s 420ms/step - loss: 0.0515 - accuracy: 0.9904 - val_loss: 0.4276 - val_accuracy: 0.8806\n",
      "Epoch 30/50\n",
      "13/13 [==============================] - 6s 421ms/step - loss: 0.0299 - accuracy: 0.9928 - val_loss: 0.2456 - val_accuracy: 0.9030\n",
      "Epoch 31/50\n",
      "13/13 [==============================] - 6s 423ms/step - loss: 0.0454 - accuracy: 0.9880 - val_loss: 0.5218 - val_accuracy: 0.8731\n",
      "Epoch 32/50\n",
      "13/13 [==============================] - 6s 420ms/step - loss: 0.0452 - accuracy: 0.9928 - val_loss: 0.2915 - val_accuracy: 0.8955\n",
      "Epoch 33/50\n",
      "13/13 [==============================] - 6s 419ms/step - loss: 0.0321 - accuracy: 0.9904 - val_loss: 0.5978 - val_accuracy: 0.8731\n",
      "Epoch 34/50\n",
      "13/13 [==============================] - 6s 420ms/step - loss: 0.0451 - accuracy: 0.9928 - val_loss: 0.1922 - val_accuracy: 0.9328\n",
      "Epoch 35/50\n",
      "13/13 [==============================] - 6s 420ms/step - loss: 0.0319 - accuracy: 0.9952 - val_loss: 0.3994 - val_accuracy: 0.8955\n",
      "Epoch 36/50\n",
      "13/13 [==============================] - 6s 422ms/step - loss: 0.0217 - accuracy: 0.9952 - val_loss: 0.2569 - val_accuracy: 0.9030\n",
      "Epoch 37/50\n",
      "13/13 [==============================] - 6s 423ms/step - loss: 0.0273 - accuracy: 0.9952 - val_loss: 0.3379 - val_accuracy: 0.8881\n",
      "Epoch 38/50\n",
      "13/13 [==============================] - 6s 422ms/step - loss: 0.0354 - accuracy: 0.9880 - val_loss: 0.2783 - val_accuracy: 0.8881\n",
      "Epoch 39/50\n",
      "13/13 [==============================] - 6s 421ms/step - loss: 0.0285 - accuracy: 0.9928 - val_loss: 0.4139 - val_accuracy: 0.8881\n",
      "Epoch 40/50\n",
      "13/13 [==============================] - 6s 425ms/step - loss: 0.0460 - accuracy: 0.9856 - val_loss: 0.1825 - val_accuracy: 0.9478\n",
      "Epoch 41/50\n",
      "13/13 [==============================] - 6s 416ms/step - loss: 0.0375 - accuracy: 0.9928 - val_loss: 0.4697 - val_accuracy: 0.8731\n",
      "Epoch 42/50\n",
      "13/13 [==============================] - 6s 418ms/step - loss: 0.0307 - accuracy: 0.9880 - val_loss: 0.2843 - val_accuracy: 0.8955\n",
      "Epoch 43/50\n",
      "13/13 [==============================] - 6s 420ms/step - loss: 0.0187 - accuracy: 0.9952 - val_loss: 0.2650 - val_accuracy: 0.9104\n",
      "Epoch 44/50\n",
      "13/13 [==============================] - 6s 418ms/step - loss: 0.0302 - accuracy: 0.9928 - val_loss: 0.2830 - val_accuracy: 0.9104\n",
      "Epoch 45/50\n",
      "13/13 [==============================] - 6s 418ms/step - loss: 0.0154 - accuracy: 0.9952 - val_loss: 0.3608 - val_accuracy: 0.8881\n",
      "Epoch 46/50\n",
      "13/13 [==============================] - 5s 411ms/step - loss: 0.0253 - accuracy: 0.9928 - val_loss: 0.6281 - val_accuracy: 0.8731\n",
      "Epoch 47/50\n",
      "13/13 [==============================] - 6s 416ms/step - loss: 0.0328 - accuracy: 0.9928 - val_loss: 0.2944 - val_accuracy: 0.9030\n",
      "Epoch 48/50\n",
      "13/13 [==============================] - 6s 416ms/step - loss: 0.0261 - accuracy: 0.9952 - val_loss: 0.4947 - val_accuracy: 0.8881\n",
      "Epoch 49/50\n",
      "13/13 [==============================] - 6s 413ms/step - loss: 0.0382 - accuracy: 0.9880 - val_loss: 0.1789 - val_accuracy: 0.9478\n",
      "Epoch 50/50\n",
      "13/13 [==============================] - 6s 419ms/step - loss: 0.0238 - accuracy: 0.9976 - val_loss: 0.4957 - val_accuracy: 0.8881\n"
     ]
    }
   ],
   "source": [
    "'''\n",
    " Effettuo il fitting del modello\n",
    "'''\n",
    "r = model.fit(\n",
    "  training_set,\n",
    "  validation_data=test_set,\n",
    "  steps_per_epoch=len(training_set),\n",
    "  epochs=epoch\n",
    " )"
   ]
  },
  {
   "cell_type": "code",
   "execution_count": 15,
   "metadata": {},
   "outputs": [
    {
     "data": {
      "image/png": "[encoded data removed]",
      "text/plain": [
       "<Figure size 432x288 with 1 Axes>"
      ]
     },
     "metadata": {
      "needs_background": "light"
     },
     "output_type": "display_data"
    },
    {
     "data": {
      "image/png": "[encoded data removed]",
      "text/plain": [
       "<Figure size 432x288 with 1 Axes>"
      ]
     },
     "metadata": {
      "needs_background": "light"
     },
     "output_type": "display_data"
    },
    {
     "data": {
      "text/plain": [
       "<Figure size 432x288 with 0 Axes>"
      ]
     },
     "metadata": {},
     "output_type": "display_data"
    }
   ],
   "source": [
    "'''\n",
    " Stampo il grafico della Loss\n",
    "'''\n",
    "plt.plot(r.history['loss'], label='train loss')\n",
    "plt.plot(r.history['val_loss'], label='val loss')\n",
    "plt.legend()\n",
    "plt.show()\n",
    "plt.savefig('LossVal_loss')\n",
    "\n",
    "'''\n",
    " Stampo il grafico dell'accuratezza\n",
    "'''\n",
    "plt.plot(r.history['accuracy'], label='train acc')\n",
    "plt.plot(r.history['val_accuracy'], label='val acc')\n",
    "plt.legend()\n",
    "plt.show()\n",
    "plt.savefig('AccVal_acc')"
   ]
  },
  {
   "cell_type": "code",
   "execution_count": 16,
   "metadata": {},
   "outputs": [],
   "source": [
    "'''\n",
    " Salvo il Modello\n",
    "'''\n",
    "\n",
    "\n",
    "from tensorflow.keras.models import load_model\n",
    "\n",
    "model.save('Desease_vgg19.h5')"
   ]
  },
  {
   "cell_type": "code",
   "execution_count": 17,
   "metadata": {},
   "outputs": [
    {
     "data": {
      "text/plain": [
       "array([[2.02494301e-02, 9.79750574e-01],\n",
       "       [3.63775907e-04, 9.99636173e-01],\n",
       "       [9.99816477e-01, 1.83561118e-04],\n",
       "       [9.64130223e-01, 3.58697772e-02],\n",
       "       [9.99741137e-01, 2.58826854e-04],\n",
       "       [1.00000000e+00, 7.22633731e-10],\n",
       "       [5.68274350e-04, 9.99431670e-01],\n",
       "       [1.00000000e+00, 5.36903189e-10],\n",
       "       [1.33474148e-03, 9.98665214e-01],\n",
       "       [1.00000000e+00, 8.26683085e-30],\n",
       "       [2.97915400e-03, 9.97020781e-01],\n",
       "       [9.98750567e-01, 1.24941906e-03],\n",
       "       [5.42727124e-04, 9.99457300e-01],\n",
       "       [9.99658346e-01, 3.41666513e-04],\n",
       "       [9.99998450e-01, 1.50625897e-06],\n",
       "       [1.51859209e-01, 8.48140836e-01],\n",
       "       [1.00000000e+00, 1.65889810e-29],\n",
       "       [4.71577346e-02, 9.52842295e-01],\n",
       "       [1.31591596e-03, 9.98684108e-01],\n",
       "       [1.58373639e-03, 9.98416305e-01],\n",
       "       [1.00000000e+00, 1.13102072e-09],\n",
       "       [7.38085330e-01, 2.61914611e-01],\n",
       "       [1.00000000e+00, 1.30312410e-08],\n",
       "       [1.93921442e-03, 9.98060763e-01],\n",
       "       [9.99993563e-01, 6.49389222e-06],\n",
       "       [2.94562895e-03, 9.97054338e-01],\n",
       "       [5.66646270e-03, 9.94333506e-01],\n",
       "       [2.49753008e-04, 9.99750197e-01],\n",
       "       [9.99999881e-01, 1.63082561e-07],\n",
       "       [9.99996901e-01, 3.04341870e-06],\n",
       "       [2.26214703e-04, 9.99773800e-01],\n",
       "       [9.14246077e-04, 9.99085784e-01],\n",
       "       [1.00000000e+00, 3.81280008e-11],\n",
       "       [9.99997020e-01, 2.97965380e-06],\n",
       "       [9.99888420e-01, 1.11590292e-04],\n",
       "       [1.14676982e-01, 8.85322988e-01],\n",
       "       [9.98941720e-01, 1.05833262e-03],\n",
       "       [1.67000049e-03, 9.98330057e-01],\n",
       "       [6.07144146e-04, 9.99392867e-01],\n",
       "       [1.75051496e-03, 9.98249471e-01],\n",
       "       [7.45675003e-04, 9.99254286e-01],\n",
       "       [1.00000000e+00, 1.11850182e-11],\n",
       "       [9.99966741e-01, 3.33162170e-05],\n",
       "       [9.99999642e-01, 3.55479074e-07],\n",
       "       [1.00000000e+00, 8.29963112e-11],\n",
       "       [5.14503941e-02, 9.48549569e-01],\n",
       "       [6.23037573e-04, 9.99376953e-01],\n",
       "       [1.74779780e-02, 9.82522011e-01],\n",
       "       [9.43889958e-04, 9.99056160e-01],\n",
       "       [1.00000000e+00, 8.52599352e-23],\n",
       "       [9.99184191e-01, 8.15766980e-04],\n",
       "       [1.14557659e-03, 9.98854399e-01],\n",
       "       [5.09776920e-02, 9.49022233e-01],\n",
       "       [1.00000000e+00, 1.48521710e-08],\n",
       "       [9.36971803e-04, 9.99063075e-01],\n",
       "       [9.99691129e-01, 3.08942486e-04],\n",
       "       [4.19075303e-02, 9.58092451e-01],\n",
       "       [1.00000000e+00, 3.58861740e-08],\n",
       "       [1.18275182e-02, 9.88172472e-01],\n",
       "       [9.99993682e-01, 6.31984631e-06],\n",
       "       [5.66814153e-04, 9.99433219e-01],\n",
       "       [2.16319459e-03, 9.97836769e-01],\n",
       "       [3.60955310e-04, 9.99639034e-01],\n",
       "       [1.00000000e+00, 2.18852206e-14],\n",
       "       [9.99964952e-01, 3.51046110e-05],\n",
       "       [1.00000000e+00, 5.60523095e-25],\n",
       "       [3.45748616e-04, 9.99654293e-01],\n",
       "       [1.53193260e-02, 9.84680712e-01],\n",
       "       [1.90145380e-04, 9.99809921e-01],\n",
       "       [1.00000000e+00, 3.06741854e-11],\n",
       "       [8.71009950e-04, 9.99128997e-01],\n",
       "       [4.46181409e-02, 9.55381870e-01],\n",
       "       [9.99999642e-01, 3.01032713e-07],\n",
       "       [8.18201806e-04, 9.99181807e-01],\n",
       "       [9.31422925e-04, 9.99068558e-01],\n",
       "       [8.68784785e-01, 1.31215215e-01],\n",
       "       [1.00000000e+00, 5.07620008e-08],\n",
       "       [9.99982476e-01, 1.75278656e-05],\n",
       "       [1.00000000e+00, 2.61861782e-11],\n",
       "       [9.99997616e-01, 2.33519040e-06],\n",
       "       [9.99986649e-01, 1.33798503e-05],\n",
       "       [1.00000000e+00, 4.99561710e-18],\n",
       "       [9.99992847e-01, 7.11798612e-06],\n",
       "       [1.08127855e-03, 9.98918772e-01],\n",
       "       [1.00000000e+00, 1.13408438e-08],\n",
       "       [9.99998331e-01, 1.72448847e-06],\n",
       "       [9.90341783e-01, 9.65823699e-03],\n",
       "       [1.00000000e+00, 1.01191035e-13],\n",
       "       [9.99979854e-01, 2.01485163e-05],\n",
       "       [9.99915957e-01, 8.40120629e-05],\n",
       "       [1.00000000e+00, 2.95112623e-09],\n",
       "       [1.00000000e+00, 6.33136715e-15],\n",
       "       [6.47786140e-01, 3.52213860e-01],\n",
       "       [9.99852180e-01, 1.47856234e-04],\n",
       "       [6.48941088e-04, 9.99351084e-01],\n",
       "       [1.00000000e+00, 1.50242485e-10],\n",
       "       [1.00000000e+00, 2.40217809e-25],\n",
       "       [1.18204247e-04, 9.99881744e-01],\n",
       "       [9.99921918e-01, 7.81191557e-05],\n",
       "       [1.19510223e-03, 9.98804927e-01],\n",
       "       [9.99991298e-01, 8.67846393e-06],\n",
       "       [9.99996901e-01, 3.09871280e-06],\n",
       "       [9.99997258e-01, 2.72585930e-06],\n",
       "       [8.53049743e-04, 9.99146938e-01],\n",
       "       [1.13266651e-02, 9.88673389e-01],\n",
       "       [3.23547120e-03, 9.96764541e-01],\n",
       "       [9.99997139e-01, 2.83410964e-06],\n",
       "       [9.99999762e-01, 2.18561766e-07],\n",
       "       [2.58892542e-04, 9.99741137e-01],\n",
       "       [9.99974012e-01, 2.59816279e-05],\n",
       "       [9.99996781e-01, 3.23608901e-06],\n",
       "       [9.99999881e-01, 1.24228748e-07],\n",
       "       [9.99404788e-01, 5.95169317e-04],\n",
       "       [6.60674064e-04, 9.99339283e-01],\n",
       "       [9.97295836e-04, 9.99002755e-01],\n",
       "       [1.22927059e-03, 9.98770654e-01],\n",
       "       [9.99996543e-01, 3.51548169e-06],\n",
       "       [1.00000000e+00, 4.07233578e-15],\n",
       "       [9.96586323e-01, 3.41365975e-03],\n",
       "       [9.99302387e-01, 6.97620446e-04],\n",
       "       [6.96395873e-04, 9.99303579e-01],\n",
       "       [9.99998450e-01, 1.56664248e-06],\n",
       "       [3.61728336e-04, 9.99638319e-01],\n",
       "       [9.99934673e-01, 6.53476891e-05],\n",
       "       [1.73280045e-01, 8.26719940e-01],\n",
       "       [3.76038195e-04, 9.99623895e-01],\n",
       "       [9.99995470e-01, 4.47780985e-06],\n",
       "       [1.00000000e+00, 5.67561831e-11],\n",
       "       [2.01721661e-04, 9.99798238e-01],\n",
       "       [7.10321998e-04, 9.99289632e-01],\n",
       "       [5.55020012e-02, 9.44498003e-01],\n",
       "       [9.99994040e-01, 5.90530362e-06],\n",
       "       [1.00000000e+00, 3.49680569e-08],\n",
       "       [9.99999881e-01, 1.00634487e-07]], dtype=float32)"
      ]
     },
     "execution_count": 17,
     "metadata": {},
     "output_type": "execute_result"
    }
   ],
   "source": [
    "'''\n",
    " Effettuo le predizioni del modello\n",
    "'''\n",
    "y_pred = model.predict(test_set)\n",
    "\n",
    "y_pred"
   ]
  },
  {
   "cell_type": "code",
   "execution_count": 23,
   "metadata": {},
   "outputs": [
    {
     "data": {
      "text/plain": [
       "array([0, 0, 0, 0, 0, 1, 0, 1, 1, 0, 0, 1, 1, 0, 0, 0, 0, 1, 1, 0, 0, 1,\n",
       "       0, 1, 0, 0, 1, 1, 0, 0, 1, 1, 1, 0, 0, 1, 1, 0, 0, 0, 0, 1, 0, 0,\n",
       "       0, 1, 1, 1, 1, 1, 0, 0, 0, 1, 1, 0, 0, 0, 1, 0, 0, 0, 0, 1, 0, 1,\n",
       "       1, 1, 0, 0, 0, 0, 1, 0, 0, 1, 0, 1, 1, 0, 0, 0, 1, 1, 0, 0, 1, 0,\n",
       "       1, 1, 0, 0, 1, 0, 0, 1, 0, 1, 0, 1, 0, 0, 0, 1, 0, 0, 1, 0, 1, 0,\n",
       "       0, 1, 1, 1, 0, 1, 0, 0, 1, 1, 0, 1, 0, 0, 1, 1, 0, 0, 1, 1, 0, 0,\n",
       "       1, 1], dtype=int64)"
      ]
     },
     "execution_count": 23,
     "metadata": {},
     "output_type": "execute_result"
    }
   ],
   "source": [
    "'''\n",
    " Seleziono solo la classe col valore più alto per ogni\n",
    " predizione\n",
    "'''\n",
    "\n",
    "import numpy as np\n",
    "y_pred = np.argmax(model.predict(test_set), axis=1)\n",
    "\n",
    "y_pred"
   ]
  },
  {
   "cell_type": "code",
   "execution_count": 24,
   "metadata": {},
   "outputs": [],
   "source": [
    "'''\n",
    " Ricarico il modello per non riallenarlo ogni volta\n",
    " (Questo se è stato già salvato una volta)\n",
    "'''\n",
    "\n",
    "from tensorflow.keras.models import load_model\n",
    "from tensorflow.keras.preprocessing import image\n",
    "\n",
    "model=load_model('Desease_vgg19.h5')"
   ]
  },
  {
   "cell_type": "code",
   "execution_count": 25,
   "metadata": {},
   "outputs": [],
   "source": [
    "'''\n",
    " Carico u'immagine\n",
    "'''\n",
    "\n",
    "img=image.load_img('Dataset/Test/Parasite/C39P4thinF_original_IMG_20150622_105554_cell_10.png',target_size=(224,224))\n"
   ]
  },
  {
   "cell_type": "code",
   "execution_count": 26,
   "metadata": {},
   "outputs": [],
   "source": [
    "'''\n",
    " Trasformo l'immagine in un arrayt\n",
    "'''\n",
    "\n",
    "x=image.img_to_array(img)\n",
    "#x"
   ]
  },
  {
   "cell_type": "code",
   "execution_count": 27,
   "metadata": {},
   "outputs": [
    {
     "data": {
      "text/plain": [
       "(224, 224, 3)"
      ]
     },
     "execution_count": 27,
     "metadata": {},
     "output_type": "execute_result"
    }
   ],
   "source": [
    "'''\n",
    " Effettuo lo shape dell'immagine\n",
    "'''\n",
    "x.shape"
   ]
  },
  {
   "cell_type": "code",
   "execution_count": 28,
   "metadata": {},
   "outputs": [],
   "source": [
    "'''\n",
    " Divido l'immagine in un range di colori per\n",
    " pixel\n",
    "'''\n",
    "x=x/255"
   ]
  },
  {
   "cell_type": "code",
   "execution_count": 29,
   "metadata": {},
   "outputs": [],
   "source": [
    "'''\n",
    " Aggiungo all'immagine l'impostazione per i \n",
    " 3 canali (RGB)\n",
    "'''\n",
    "x=np.expand_dims(x,axis=0)\n",
    "img_data=preprocess_input(x)\n",
    "#img_data.shape"
   ]
  },
  {
   "cell_type": "code",
   "execution_count": 30,
   "metadata": {},
   "outputs": [
    {
     "data": {
      "text/plain": [
       "array([[1., 0.]], dtype=float32)"
      ]
     },
     "execution_count": 30,
     "metadata": {},
     "output_type": "execute_result"
    }
   ],
   "source": [
    "'''\n",
    " Effettuo la predizione sull'immagine\n",
    "'''\n",
    "model.predict(img_data)"
   ]
  },
  {
   "cell_type": "code",
   "execution_count": 31,
   "metadata": {},
   "outputs": [],
   "source": [
    "'''\n",
    " Seleziono la classe col valore più alto \n",
    "'''\n",
    "\n",
    "a=np.argmax(model.predict(img_data), axis=1)\n",
    "#print(a)"
   ]
  },
  {
   "cell_type": "code",
   "execution_count": 32,
   "metadata": {},
   "outputs": [
    {
     "name": "stdout",
     "output_type": "stream",
     "text": [
      "Infected\n"
     ]
    }
   ],
   "source": [
    "'''\n",
    " Stampo il risultato\n",
    "'''\n",
    "\n",
    "if(a==1):\n",
    "    print(\"Uninfected\")\n",
    "else:\n",
    "    print(\"Infected\")"
   ]
  },
  {
   "cell_type": "code",
   "execution_count": null,
   "metadata": {},
   "outputs": [],
   "source": []
  },
  {
   "cell_type": "code",
   "execution_count": null,
   "metadata": {},
   "outputs": [],
   "source": []
  }
 ],
 "metadata": {
  "kernelspec": {
   "display_name": "Python 3.9.0 64-bit",
   "language": "python",
   "name": "python3"
  },
  "language_info": {
   "codemirror_mode": {
    "name": "ipython",
    "version": 3
   },
   "file_extension": ".py",
   "mimetype": "text/x-python",
   "name": "python",
   "nbconvert_exporter": "python",
   "pygments_lexer": "ipython3",
   "version": "3.9.0"
  },
  "vscode": {
   "interpreter": {
    "hash": "8680e8088d5ef423db6c5279d50def505ea905b30c44c08bf8f9d75c6cba9092"
   }
  }
 },
 "nbformat": 4,
 "nbformat_minor": 2
}
